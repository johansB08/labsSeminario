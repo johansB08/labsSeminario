{
  "cells": [
    {
      "cell_type": "markdown",
      "metadata": {
        "id": "view-in-github",
        "colab_type": "text"
      },
      "source": [
        "<a href=\"https://colab.research.google.com/github/johansB08/labsSeminario/blob/main/lab4_clasif_RCV_GPM_RNA.ipynb\" target=\"_parent\"><img src=\"https://colab.research.google.com/assets/colab-badge.svg\" alt=\"Open In Colab\"/></a>"
      ]
    },
    {
      "cell_type": "markdown",
      "id": "inappropriate-farmer",
      "metadata": {
        "id": "inappropriate-farmer"
      },
      "source": [
        "# Redes Neuronales Artificiales Para Predecir Riesgo Cardiovascular\n",
        "\n",
        "**Autor: Johan Benavides - 88593\n",
        "Sebastian Morales - 73487.**\\\n",
        "Bogotá, Colombia \\\n",
        "Actualizado: 18 oct 2023 \\\n",
        "_Nota: Código ajustado para su ejecución en Google Colaboratory_\\\n",
        "Verificado con las siguientes versiones: Python 3.10.12, Tensorflow: 2.13.0, Keras: 2.13.1_"
      ]
    },
    {
      "cell_type": "markdown",
      "id": "adapted-handle",
      "metadata": {
        "id": "adapted-handle"
      },
      "source": [
        "## Cargar librerías\n",
        "The Python programming language relies on specialized code libraries for various functionalities. For example, if we want to graph we can invoke (call, load) a specialized library such as matplotlib. This packaging of code with concrete functions and the like is similar to what R software does with packages. Next, the libraries required for the correct training of multilayer perceptron neural networks are imported. The specialized libraries specifically for training neural networks to predict cardiovascular risk are TensorFlow (_version 2.13.0_) and Keras (_version 2.13.1_).\n",
        "\n",
        "<!-- El lenguaje de programación python se apoya en librerías de código especializadas en diversas funcionalidades. Por ejemplo, si queremos graficar podemos invocar (llamar, cargar) una librerías especilizada como matplotlib. ESte empaquetamiento de código con funciones concretas y similares, se asemeja a los que hace el software R con los paquetes. A continuación, se importan las librerías requeridas para el correcto entrenamiento de redes neuronales del tipo perceptrón multicapa. Las librerías especializadas, específicamente para entrenar las redes neuronales para predecri riesgo cardiovascular son las siguientes TensorFlow (_versión 2.13.0_) y Keras (_versión 2.13.1_). -->"
      ]
    },
    {
      "cell_type": "code",
      "execution_count": 3,
      "id": "cardiovascular-satin",
      "metadata": {
        "id": "cardiovascular-satin"
      },
      "outputs": [],
      "source": [
        "# Librerías básicas de Python\n",
        "import numpy as np\n",
        "import pandas as pd\n",
        "import matplotlib.pyplot as plt\n",
        "\n",
        "# Librería para calcular tiempo de ejecución\n",
        "from time import process_time\n",
        "\n",
        "# Librerías para particionar conjunto de datos\n",
        "from sklearn.preprocessing import StandardScaler\n",
        "from sklearn.model_selection import train_test_split as split\n",
        "\n",
        "# Funciones requeridas de la librerías que permite entrenar redes neuronales\n",
        "# artificiales\n",
        "from tensorflow.keras import models\n",
        "from tensorflow.keras.layers import Dense\n",
        "from tensorflow.keras import optimizers\n",
        "from tensorflow.keras import utils as np_utils\n",
        "\n",
        "# Funciones requeridas de la librería para evaluar desempeño de la RNA\n",
        "from sklearn.metrics import roc_curve, roc_auc_score\n",
        "from sklearn.metrics import classification_report, confusion_matrix"
      ]
    },
    {
      "cell_type": "markdown",
      "source": [
        "## Verificación de versiones de librerías\n",
        "De manera rutinaria se recomienda hacer la verificación de la versión actual de las versiones de Python, TensorFlow y Keras. Por lo tanto a continuación se mnuestran las lineas de código para verificar las versiones de dichas librerías, incluyendo la versión del sistema operativo. Google Colaboratory se ejecuta sobre un sistema operatio Linux distribución Ubuntu,"
      ],
      "metadata": {
        "id": "foKFuPu-R0To"
      },
      "id": "foKFuPu-R0To"
    },
    {
      "cell_type": "code",
      "source": [
        "import tensorflow\n",
        "import keras\n",
        "print(\"El sistema operativo base de Google Colaboratory es: \")\n",
        "!lsb_release -a\n",
        "print(\"La versión actual de Python es: \")\n",
        "!python --version\n",
        "print(\"La versión instalada de Tensorflow es: \" + tensorflow.__version__)\n",
        "print(\"La versión instalada de Keras es: \" + keras.__version__)"
      ],
      "metadata": {
        "colab": {
          "base_uri": "https://localhost:8080/"
        },
        "id": "iJ-XtMkY7Y4h",
        "outputId": "0e80165a-3681-4a88-eb27-084744212734"
      },
      "id": "iJ-XtMkY7Y4h",
      "execution_count": 4,
      "outputs": [
        {
          "output_type": "stream",
          "name": "stdout",
          "text": [
            "El sistema operativo base de Google Colaboratory es: \n",
            "No LSB modules are available.\n",
            "Distributor ID:\tUbuntu\n",
            "Description:\tUbuntu 22.04.3 LTS\n",
            "Release:\t22.04\n",
            "Codename:\tjammy\n",
            "La versión actual de Python es: \n",
            "Python 3.10.12\n",
            "La versión instalada de Tensorflow es: 2.15.0\n",
            "La versión instalada de Keras es: 2.15.0\n"
          ]
        }
      ]
    },
    {
      "cell_type": "markdown",
      "id": "nasty-transparency",
      "metadata": {
        "id": "nasty-transparency"
      },
      "source": [
        "## Cargar datos\n",
        "En el contexto del presente taller, los datos que se utilizan para el entrenamiento, evaluación y validación se almacenan en un directorio de Google Drive del mismo usuario actual de Google Colaboratory. Para acceder a los datos solo se requiere ejecutar la primera celda de código de esta sección, luego brindar los permisos de acceo respectivo y, finalmente, cambiar la ruta de acceso al archivo de los datos."
      ]
    },
    {
      "cell_type": "code",
      "source": [
        "from google.colab import drive\n",
        "drive.mount('/content/drive')"
      ],
      "metadata": {
        "id": "9LuuavIPie6Z",
        "colab": {
          "base_uri": "https://localhost:8080/"
        },
        "outputId": "48ab3c9b-b741-4f73-c1cb-0785c2a8a408"
      },
      "id": "9LuuavIPie6Z",
      "execution_count": 2,
      "outputs": [
        {
          "output_type": "stream",
          "name": "stdout",
          "text": [
            "Mounted at /content/drive\n"
          ]
        }
      ]
    },
    {
      "cell_type": "code",
      "execution_count": 5,
      "id": "applicable-darkness",
      "metadata": {
        "id": "applicable-darkness"
      },
      "outputs": [],
      "source": [
        "data = pd.read_excel(\"/content/drive/MyDrive/SeminarioB/taller4/pacientes_rcv_limpio.xlsx\")\n",
        "target = data.loc[:, 'Clasificación de RCV Global'].astype(int)\n",
        "data = data.drop(['Clasificación de RCV Global'], axis=1)\n",
        "target=pd.Categorical(target).codes"
      ]
    },
    {
      "cell_type": "code",
      "source": [
        "print(data.shape)\n",
        "data.head()"
      ],
      "metadata": {
        "id": "-NPpefeF2L9D",
        "colab": {
          "base_uri": "https://localhost:8080/",
          "height": 343
        },
        "outputId": "a045094c-cf0a-488b-a204-0e6b5f5d675b"
      },
      "id": "-NPpefeF2L9D",
      "execution_count": 6,
      "outputs": [
        {
          "output_type": "stream",
          "name": "stdout",
          "text": [
            "(3000, 35)\n"
          ]
        },
        {
          "output_type": "execute_result",
          "data": {
            "text/plain": [
              "   Edad (años)  Genero  Zona  Fumador Activo  ¿Diabetes?  \\\n",
              "0           82       2     1               1           1   \n",
              "1           83       2     1               1           1   \n",
              "2           54       2     1               1           1   \n",
              "3           68       2     1               1           1   \n",
              "4           68       2     1               1           2   \n",
              "\n",
              "   Hipertensión Arterial Sistemica  HTA + DM  \\\n",
              "0                                2         1   \n",
              "1                                2         1   \n",
              "2                                1         1   \n",
              "3                                1         1   \n",
              "4                                1         1   \n",
              "\n",
              "   Clasificacion de Diabetes o del ultimo estado de Glicemia  \\\n",
              "0                                                0.0           \n",
              "1                                                0.0           \n",
              "2                                                0.0           \n",
              "3                                                0.0           \n",
              "4                                                2.0           \n",
              "\n",
              "   Complicaciones  y Lesiones en Organo Blanco  \\\n",
              "0                                            1   \n",
              "1                                            1   \n",
              "2                                            1   \n",
              "3                                            1   \n",
              "4                                            1   \n",
              "\n",
              "   Antecedentes_Fliar_Enfermedad_Coronaria  ...  Creatinina  \\\n",
              "0                                        1  ...       132.0   \n",
              "1                                        1  ...        97.0   \n",
              "2                                        1  ...        97.0   \n",
              "3                                        1  ...        86.0   \n",
              "4                                        1  ...        71.0   \n",
              "\n",
              "   Factor de corrección de la formula  Proteinuria  \\\n",
              "0                                  85          0.0   \n",
              "1                                  85          0.0   \n",
              "2                                  85          0.0   \n",
              "3                                  85          0.0   \n",
              "4                                  85          0.0   \n",
              "\n",
              "   Calculo de  TFG corregida (Cockcroft-Gault)  Estadio IRC  \\\n",
              "0                                    37.348485          3.0   \n",
              "1                                    33.000000          3.0   \n",
              "2                                    51.000000          3.0   \n",
              "3                                    53.372093          3.0   \n",
              "4                                    68.239437          2.0   \n",
              "\n",
              "   Remisiones Especialidad  Farmacos  Antihipertensivos  Estatina  \\\n",
              "0                      1.0                          1.0         0   \n",
              "1                      1.0                          2.0         0   \n",
              "2                      1.0                          3.0         0   \n",
              "3                      1.0                          1.0         0   \n",
              "4                      1.0                          2.0         0   \n",
              "\n",
              "   Antidiabeticos  Adherencia al tratamiento  \n",
              "0             2.0                        1.0  \n",
              "1             0.0                        1.0  \n",
              "2             0.0                        1.0  \n",
              "3             0.0                        1.0  \n",
              "4             3.0                        1.0  \n",
              "\n",
              "[5 rows x 35 columns]"
            ],
            "text/html": [
              "\n",
              "  <div id=\"df-c89a6948-38b2-486e-b8a4-23f2a6165cfc\" class=\"colab-df-container\">\n",
              "    <div>\n",
              "<style scoped>\n",
              "    .dataframe tbody tr th:only-of-type {\n",
              "        vertical-align: middle;\n",
              "    }\n",
              "\n",
              "    .dataframe tbody tr th {\n",
              "        vertical-align: top;\n",
              "    }\n",
              "\n",
              "    .dataframe thead th {\n",
              "        text-align: right;\n",
              "    }\n",
              "</style>\n",
              "<table border=\"1\" class=\"dataframe\">\n",
              "  <thead>\n",
              "    <tr style=\"text-align: right;\">\n",
              "      <th></th>\n",
              "      <th>Edad (años)</th>\n",
              "      <th>Genero</th>\n",
              "      <th>Zona</th>\n",
              "      <th>Fumador Activo</th>\n",
              "      <th>¿Diabetes?</th>\n",
              "      <th>Hipertensión Arterial Sistemica</th>\n",
              "      <th>HTA + DM</th>\n",
              "      <th>Clasificacion de Diabetes o del ultimo estado de Glicemia</th>\n",
              "      <th>Complicaciones  y Lesiones en Organo Blanco</th>\n",
              "      <th>Antecedentes_Fliar_Enfermedad_Coronaria</th>\n",
              "      <th>...</th>\n",
              "      <th>Creatinina</th>\n",
              "      <th>Factor de corrección de la formula</th>\n",
              "      <th>Proteinuria</th>\n",
              "      <th>Calculo de  TFG corregida (Cockcroft-Gault)</th>\n",
              "      <th>Estadio IRC</th>\n",
              "      <th>Remisiones Especialidad</th>\n",
              "      <th>Farmacos  Antihipertensivos</th>\n",
              "      <th>Estatina</th>\n",
              "      <th>Antidiabeticos</th>\n",
              "      <th>Adherencia al tratamiento</th>\n",
              "    </tr>\n",
              "  </thead>\n",
              "  <tbody>\n",
              "    <tr>\n",
              "      <th>0</th>\n",
              "      <td>82</td>\n",
              "      <td>2</td>\n",
              "      <td>1</td>\n",
              "      <td>1</td>\n",
              "      <td>1</td>\n",
              "      <td>2</td>\n",
              "      <td>1</td>\n",
              "      <td>0.0</td>\n",
              "      <td>1</td>\n",
              "      <td>1</td>\n",
              "      <td>...</td>\n",
              "      <td>132.0</td>\n",
              "      <td>85</td>\n",
              "      <td>0.0</td>\n",
              "      <td>37.348485</td>\n",
              "      <td>3.0</td>\n",
              "      <td>1.0</td>\n",
              "      <td>1.0</td>\n",
              "      <td>0</td>\n",
              "      <td>2.0</td>\n",
              "      <td>1.0</td>\n",
              "    </tr>\n",
              "    <tr>\n",
              "      <th>1</th>\n",
              "      <td>83</td>\n",
              "      <td>2</td>\n",
              "      <td>1</td>\n",
              "      <td>1</td>\n",
              "      <td>1</td>\n",
              "      <td>2</td>\n",
              "      <td>1</td>\n",
              "      <td>0.0</td>\n",
              "      <td>1</td>\n",
              "      <td>1</td>\n",
              "      <td>...</td>\n",
              "      <td>97.0</td>\n",
              "      <td>85</td>\n",
              "      <td>0.0</td>\n",
              "      <td>33.000000</td>\n",
              "      <td>3.0</td>\n",
              "      <td>1.0</td>\n",
              "      <td>2.0</td>\n",
              "      <td>0</td>\n",
              "      <td>0.0</td>\n",
              "      <td>1.0</td>\n",
              "    </tr>\n",
              "    <tr>\n",
              "      <th>2</th>\n",
              "      <td>54</td>\n",
              "      <td>2</td>\n",
              "      <td>1</td>\n",
              "      <td>1</td>\n",
              "      <td>1</td>\n",
              "      <td>1</td>\n",
              "      <td>1</td>\n",
              "      <td>0.0</td>\n",
              "      <td>1</td>\n",
              "      <td>1</td>\n",
              "      <td>...</td>\n",
              "      <td>97.0</td>\n",
              "      <td>85</td>\n",
              "      <td>0.0</td>\n",
              "      <td>51.000000</td>\n",
              "      <td>3.0</td>\n",
              "      <td>1.0</td>\n",
              "      <td>3.0</td>\n",
              "      <td>0</td>\n",
              "      <td>0.0</td>\n",
              "      <td>1.0</td>\n",
              "    </tr>\n",
              "    <tr>\n",
              "      <th>3</th>\n",
              "      <td>68</td>\n",
              "      <td>2</td>\n",
              "      <td>1</td>\n",
              "      <td>1</td>\n",
              "      <td>1</td>\n",
              "      <td>1</td>\n",
              "      <td>1</td>\n",
              "      <td>0.0</td>\n",
              "      <td>1</td>\n",
              "      <td>1</td>\n",
              "      <td>...</td>\n",
              "      <td>86.0</td>\n",
              "      <td>85</td>\n",
              "      <td>0.0</td>\n",
              "      <td>53.372093</td>\n",
              "      <td>3.0</td>\n",
              "      <td>1.0</td>\n",
              "      <td>1.0</td>\n",
              "      <td>0</td>\n",
              "      <td>0.0</td>\n",
              "      <td>1.0</td>\n",
              "    </tr>\n",
              "    <tr>\n",
              "      <th>4</th>\n",
              "      <td>68</td>\n",
              "      <td>2</td>\n",
              "      <td>1</td>\n",
              "      <td>1</td>\n",
              "      <td>2</td>\n",
              "      <td>1</td>\n",
              "      <td>1</td>\n",
              "      <td>2.0</td>\n",
              "      <td>1</td>\n",
              "      <td>1</td>\n",
              "      <td>...</td>\n",
              "      <td>71.0</td>\n",
              "      <td>85</td>\n",
              "      <td>0.0</td>\n",
              "      <td>68.239437</td>\n",
              "      <td>2.0</td>\n",
              "      <td>1.0</td>\n",
              "      <td>2.0</td>\n",
              "      <td>0</td>\n",
              "      <td>3.0</td>\n",
              "      <td>1.0</td>\n",
              "    </tr>\n",
              "  </tbody>\n",
              "</table>\n",
              "<p>5 rows × 35 columns</p>\n",
              "</div>\n",
              "    <div class=\"colab-df-buttons\">\n",
              "\n",
              "  <div class=\"colab-df-container\">\n",
              "    <button class=\"colab-df-convert\" onclick=\"convertToInteractive('df-c89a6948-38b2-486e-b8a4-23f2a6165cfc')\"\n",
              "            title=\"Convert this dataframe to an interactive table.\"\n",
              "            style=\"display:none;\">\n",
              "\n",
              "  <svg xmlns=\"http://www.w3.org/2000/svg\" height=\"24px\" viewBox=\"0 -960 960 960\">\n",
              "    <path d=\"M120-120v-720h720v720H120Zm60-500h600v-160H180v160Zm220 220h160v-160H400v160Zm0 220h160v-160H400v160ZM180-400h160v-160H180v160Zm440 0h160v-160H620v160ZM180-180h160v-160H180v160Zm440 0h160v-160H620v160Z\"/>\n",
              "  </svg>\n",
              "    </button>\n",
              "\n",
              "  <style>\n",
              "    .colab-df-container {\n",
              "      display:flex;\n",
              "      gap: 12px;\n",
              "    }\n",
              "\n",
              "    .colab-df-convert {\n",
              "      background-color: #E8F0FE;\n",
              "      border: none;\n",
              "      border-radius: 50%;\n",
              "      cursor: pointer;\n",
              "      display: none;\n",
              "      fill: #1967D2;\n",
              "      height: 32px;\n",
              "      padding: 0 0 0 0;\n",
              "      width: 32px;\n",
              "    }\n",
              "\n",
              "    .colab-df-convert:hover {\n",
              "      background-color: #E2EBFA;\n",
              "      box-shadow: 0px 1px 2px rgba(60, 64, 67, 0.3), 0px 1px 3px 1px rgba(60, 64, 67, 0.15);\n",
              "      fill: #174EA6;\n",
              "    }\n",
              "\n",
              "    .colab-df-buttons div {\n",
              "      margin-bottom: 4px;\n",
              "    }\n",
              "\n",
              "    [theme=dark] .colab-df-convert {\n",
              "      background-color: #3B4455;\n",
              "      fill: #D2E3FC;\n",
              "    }\n",
              "\n",
              "    [theme=dark] .colab-df-convert:hover {\n",
              "      background-color: #434B5C;\n",
              "      box-shadow: 0px 1px 3px 1px rgba(0, 0, 0, 0.15);\n",
              "      filter: drop-shadow(0px 1px 2px rgba(0, 0, 0, 0.3));\n",
              "      fill: #FFFFFF;\n",
              "    }\n",
              "  </style>\n",
              "\n",
              "    <script>\n",
              "      const buttonEl =\n",
              "        document.querySelector('#df-c89a6948-38b2-486e-b8a4-23f2a6165cfc button.colab-df-convert');\n",
              "      buttonEl.style.display =\n",
              "        google.colab.kernel.accessAllowed ? 'block' : 'none';\n",
              "\n",
              "      async function convertToInteractive(key) {\n",
              "        const element = document.querySelector('#df-c89a6948-38b2-486e-b8a4-23f2a6165cfc');\n",
              "        const dataTable =\n",
              "          await google.colab.kernel.invokeFunction('convertToInteractive',\n",
              "                                                    [key], {});\n",
              "        if (!dataTable) return;\n",
              "\n",
              "        const docLinkHtml = 'Like what you see? Visit the ' +\n",
              "          '<a target=\"_blank\" href=https://colab.research.google.com/notebooks/data_table.ipynb>data table notebook</a>'\n",
              "          + ' to learn more about interactive tables.';\n",
              "        element.innerHTML = '';\n",
              "        dataTable['output_type'] = 'display_data';\n",
              "        await google.colab.output.renderOutput(dataTable, element);\n",
              "        const docLink = document.createElement('div');\n",
              "        docLink.innerHTML = docLinkHtml;\n",
              "        element.appendChild(docLink);\n",
              "      }\n",
              "    </script>\n",
              "  </div>\n",
              "\n",
              "\n",
              "<div id=\"df-70e64799-f9f7-4e33-bed2-9759f80ce898\">\n",
              "  <button class=\"colab-df-quickchart\" onclick=\"quickchart('df-70e64799-f9f7-4e33-bed2-9759f80ce898')\"\n",
              "            title=\"Suggest charts\"\n",
              "            style=\"display:none;\">\n",
              "\n",
              "<svg xmlns=\"http://www.w3.org/2000/svg\" height=\"24px\"viewBox=\"0 0 24 24\"\n",
              "     width=\"24px\">\n",
              "    <g>\n",
              "        <path d=\"M19 3H5c-1.1 0-2 .9-2 2v14c0 1.1.9 2 2 2h14c1.1 0 2-.9 2-2V5c0-1.1-.9-2-2-2zM9 17H7v-7h2v7zm4 0h-2V7h2v10zm4 0h-2v-4h2v4z\"/>\n",
              "    </g>\n",
              "</svg>\n",
              "  </button>\n",
              "\n",
              "<style>\n",
              "  .colab-df-quickchart {\n",
              "      --bg-color: #E8F0FE;\n",
              "      --fill-color: #1967D2;\n",
              "      --hover-bg-color: #E2EBFA;\n",
              "      --hover-fill-color: #174EA6;\n",
              "      --disabled-fill-color: #AAA;\n",
              "      --disabled-bg-color: #DDD;\n",
              "  }\n",
              "\n",
              "  [theme=dark] .colab-df-quickchart {\n",
              "      --bg-color: #3B4455;\n",
              "      --fill-color: #D2E3FC;\n",
              "      --hover-bg-color: #434B5C;\n",
              "      --hover-fill-color: #FFFFFF;\n",
              "      --disabled-bg-color: #3B4455;\n",
              "      --disabled-fill-color: #666;\n",
              "  }\n",
              "\n",
              "  .colab-df-quickchart {\n",
              "    background-color: var(--bg-color);\n",
              "    border: none;\n",
              "    border-radius: 50%;\n",
              "    cursor: pointer;\n",
              "    display: none;\n",
              "    fill: var(--fill-color);\n",
              "    height: 32px;\n",
              "    padding: 0;\n",
              "    width: 32px;\n",
              "  }\n",
              "\n",
              "  .colab-df-quickchart:hover {\n",
              "    background-color: var(--hover-bg-color);\n",
              "    box-shadow: 0 1px 2px rgba(60, 64, 67, 0.3), 0 1px 3px 1px rgba(60, 64, 67, 0.15);\n",
              "    fill: var(--button-hover-fill-color);\n",
              "  }\n",
              "\n",
              "  .colab-df-quickchart-complete:disabled,\n",
              "  .colab-df-quickchart-complete:disabled:hover {\n",
              "    background-color: var(--disabled-bg-color);\n",
              "    fill: var(--disabled-fill-color);\n",
              "    box-shadow: none;\n",
              "  }\n",
              "\n",
              "  .colab-df-spinner {\n",
              "    border: 2px solid var(--fill-color);\n",
              "    border-color: transparent;\n",
              "    border-bottom-color: var(--fill-color);\n",
              "    animation:\n",
              "      spin 1s steps(1) infinite;\n",
              "  }\n",
              "\n",
              "  @keyframes spin {\n",
              "    0% {\n",
              "      border-color: transparent;\n",
              "      border-bottom-color: var(--fill-color);\n",
              "      border-left-color: var(--fill-color);\n",
              "    }\n",
              "    20% {\n",
              "      border-color: transparent;\n",
              "      border-left-color: var(--fill-color);\n",
              "      border-top-color: var(--fill-color);\n",
              "    }\n",
              "    30% {\n",
              "      border-color: transparent;\n",
              "      border-left-color: var(--fill-color);\n",
              "      border-top-color: var(--fill-color);\n",
              "      border-right-color: var(--fill-color);\n",
              "    }\n",
              "    40% {\n",
              "      border-color: transparent;\n",
              "      border-right-color: var(--fill-color);\n",
              "      border-top-color: var(--fill-color);\n",
              "    }\n",
              "    60% {\n",
              "      border-color: transparent;\n",
              "      border-right-color: var(--fill-color);\n",
              "    }\n",
              "    80% {\n",
              "      border-color: transparent;\n",
              "      border-right-color: var(--fill-color);\n",
              "      border-bottom-color: var(--fill-color);\n",
              "    }\n",
              "    90% {\n",
              "      border-color: transparent;\n",
              "      border-bottom-color: var(--fill-color);\n",
              "    }\n",
              "  }\n",
              "</style>\n",
              "\n",
              "  <script>\n",
              "    async function quickchart(key) {\n",
              "      const quickchartButtonEl =\n",
              "        document.querySelector('#' + key + ' button');\n",
              "      quickchartButtonEl.disabled = true;  // To prevent multiple clicks.\n",
              "      quickchartButtonEl.classList.add('colab-df-spinner');\n",
              "      try {\n",
              "        const charts = await google.colab.kernel.invokeFunction(\n",
              "            'suggestCharts', [key], {});\n",
              "      } catch (error) {\n",
              "        console.error('Error during call to suggestCharts:', error);\n",
              "      }\n",
              "      quickchartButtonEl.classList.remove('colab-df-spinner');\n",
              "      quickchartButtonEl.classList.add('colab-df-quickchart-complete');\n",
              "    }\n",
              "    (() => {\n",
              "      let quickchartButtonEl =\n",
              "        document.querySelector('#df-70e64799-f9f7-4e33-bed2-9759f80ce898 button');\n",
              "      quickchartButtonEl.style.display =\n",
              "        google.colab.kernel.accessAllowed ? 'block' : 'none';\n",
              "    })();\n",
              "  </script>\n",
              "</div>\n",
              "\n",
              "    </div>\n",
              "  </div>\n"
            ],
            "application/vnd.google.colaboratory.intrinsic+json": {
              "type": "dataframe",
              "variable_name": "data"
            }
          },
          "metadata": {},
          "execution_count": 6
        }
      ]
    },
    {
      "cell_type": "code",
      "source": [
        "data.dtypes"
      ],
      "metadata": {
        "id": "pHpr2_1D3qk8",
        "colab": {
          "base_uri": "https://localhost:8080/"
        },
        "outputId": "71a3de10-e375-4f71-b1d6-920d66bfc0d4"
      },
      "id": "pHpr2_1D3qk8",
      "execution_count": 7,
      "outputs": [
        {
          "output_type": "execute_result",
          "data": {
            "text/plain": [
              "Edad (años)                                                    int64\n",
              "Genero                                                         int64\n",
              "Zona                                                           int64\n",
              "Fumador Activo                                                 int64\n",
              "¿Diabetes?                                                     int64\n",
              "Hipertensión Arterial Sistemica                                int64\n",
              "HTA + DM                                                       int64\n",
              "Clasificacion de Diabetes o del ultimo estado de Glicemia    float64\n",
              "Complicaciones  y Lesiones en Organo Blanco                    int64\n",
              "Antecedentes_Fliar_Enfermedad_Coronaria                        int64\n",
              "Tension SISTOLICA                                              int64\n",
              "Tension DIASTOLICA                                           float64\n",
              "HTA COMPENSADOS                                                int64\n",
              "Colesterol Total                                               int64\n",
              "Colesterol HDL                                               float64\n",
              "Trigliceridos                                                  int64\n",
              "Colesterol LDL                                               float64\n",
              "HTA Y DM COMPENSADA                                            int64\n",
              "Glicemia de ayuno                                            float64\n",
              "Perimetro Abdominal                                          float64\n",
              "Clasificación perímetro abdominal                            float64\n",
              "Peso                                                           int64\n",
              "Talla                                                          int64\n",
              "IMC                                                            int64\n",
              "CLASIFICACION IMC                                              int64\n",
              "Creatinina                                                   float64\n",
              "Factor de corrección de la formula                             int64\n",
              "Proteinuria                                                  float64\n",
              "Calculo de  TFG corregida (Cockcroft-Gault)                  float64\n",
              "Estadio IRC                                                  float64\n",
              "Remisiones Especialidad                                      float64\n",
              "Farmacos  Antihipertensivos                                  float64\n",
              "Estatina                                                       int64\n",
              "Antidiabeticos                                               float64\n",
              "Adherencia al tratamiento                                    float64\n",
              "dtype: object"
            ]
          },
          "metadata": {},
          "execution_count": 7
        }
      ]
    },
    {
      "cell_type": "markdown",
      "source": [
        "## Conteo de clases\n",
        "\n",
        "El desbalance de clases es notorio. La clase que representa al riesgo cardiovascular intermedio tiene 40% menos muestras que el riesgo cardiovascular alto. Entretanto, la clase que representa al riesgo cardiovascular bajo tiene 60% menos muestras que el riesgo cardiovascular alto."
      ],
      "metadata": {
        "id": "cY7fuulPDmAL"
      },
      "id": "cY7fuulPDmAL"
    },
    {
      "cell_type": "code",
      "source": [
        "import pandas as pd\n",
        "pd.DataFrame(target).value_counts()"
      ],
      "metadata": {
        "id": "Qw3A8P10DqBR",
        "colab": {
          "base_uri": "https://localhost:8080/"
        },
        "outputId": "3d085c26-3f6e-420e-e797-b073841b0b25"
      },
      "id": "Qw3A8P10DqBR",
      "execution_count": 8,
      "outputs": [
        {
          "output_type": "execute_result",
          "data": {
            "text/plain": [
              "2    1597\n",
              "1     820\n",
              "0     583\n",
              "Name: count, dtype: int64"
            ]
          },
          "metadata": {},
          "execution_count": 8
        }
      ]
    },
    {
      "cell_type": "markdown",
      "id": "maritime-warren",
      "metadata": {
        "id": "maritime-warren"
      },
      "source": [
        "## Preparar datos para el entrenamiento de la RNA\n",
        "En esta sección se excluyen la etapa de preprocesamiento de los datos, en la cual, se segue una metodología para asegurar la calidad de los datos. Así mismo, se excluye la etapa de análisis exploratorio de datos, en la cual, se eaplican técnicas de estadística descriptiva y, en algunos casos, inferencial. Por lo tanto, para efectos del taller, esta sección se restringue a la partición del conjunto original de datos para obtener los tres subconjguntos vitales en el entrenamiento y evaluación del modelo predictivo."
      ]
    },
    {
      "cell_type": "markdown",
      "id": "waiting-pizza",
      "metadata": {
        "id": "waiting-pizza"
      },
      "source": [
        "### Particionar datos"
      ]
    },
    {
      "cell_type": "code",
      "source": [
        "## Particionar el conjunto de datos para crear datos de entrenamiento, evaluación y validación.\n",
        "sc = StandardScaler()\n",
        "Xsc = sc.fit(data)\n",
        "X = Xsc.transform(data)\n",
        "X.shape\n",
        "\n",
        "X_train, X_test, y_train, y_test = split(X,target,\n",
        "                                         test_size=0.30,\n",
        "                                         random_state=42,\n",
        "                                         stratify=target)\n",
        "X_train, X_valid, y_train, y_valid = split(X_train, y_train,\n",
        "                                           test_size=0.2,\n",
        "                                           stratify=y_train)\n",
        "print(\"El tamaño de los nuevos subconjuntos es: \", X_train.shape, X_test.shape, X_valid.shape)\n",
        "print(\"Y es la variable que tiene las etiquetas de las clases a predecir: \", y_train.shape, y_test.shape, y_valid.shape)"
      ],
      "metadata": {
        "id": "5KnSXVxYVyxr",
        "colab": {
          "base_uri": "https://localhost:8080/"
        },
        "outputId": "be3572ec-14c3-4657-946e-84b6ff0ee1da"
      },
      "id": "5KnSXVxYVyxr",
      "execution_count": 9,
      "outputs": [
        {
          "output_type": "stream",
          "name": "stdout",
          "text": [
            "El tamaño de los nuevos subconjuntos es:  (1680, 35) (900, 35) (420, 35)\n",
            "Y es la variable que tiene las etiquetas de las clases a predecir:  (1680,) (900,) (420,)\n"
          ]
        }
      ]
    },
    {
      "cell_type": "markdown",
      "source": [
        "### Transformación de etiquetas de la clase objetivo (Predicción Multiclase)"
      ],
      "metadata": {
        "id": "h6XCkQXzYfYh"
      },
      "id": "h6XCkQXzYfYh"
    },
    {
      "cell_type": "code",
      "execution_count": 10,
      "id": "productive-bunny",
      "metadata": {
        "id": "productive-bunny"
      },
      "outputs": [],
      "source": [
        "# #Transformación de las etiquetas requerida para el entrenamiento de RNA\n",
        "Y_train = np_utils.to_categorical(y_train)\n",
        "Y_test = np_utils.to_categorical(y_test)\n",
        "Y_valid = np_utils.to_categorical(y_valid)"
      ]
    },
    {
      "cell_type": "markdown",
      "id": "assured-conversation",
      "metadata": {
        "id": "assured-conversation"
      },
      "source": [
        "## Entrenamiento del modelo predictivo basado en RNA"
      ]
    },
    {
      "cell_type": "code",
      "source": [
        "# Optimización de hiperparámetros\n",
        "#funcion de activacion\n",
        "#loss\n",
        "#metrics\n",
        "#optimizer\n",
        "#learning_rate\n",
        "#epochs\n",
        "#batch_size"
      ],
      "metadata": {
        "id": "rJ5hcFCxa-c_"
      },
      "id": "rJ5hcFCxa-c_",
      "execution_count": 11,
      "outputs": []
    },
    {
      "cell_type": "markdown",
      "id": "external-sydney",
      "metadata": {
        "id": "external-sydney"
      },
      "source": [
        "### Diseño de la arquitectura del modelo de red neuronal artificial"
      ]
    },
    {
      "cell_type": "markdown",
      "source": [
        "### Compilar el modelo creado"
      ],
      "metadata": {
        "id": "ychB9Bk6p4xq"
      },
      "id": "ychB9Bk6p4xq"
    },
    {
      "cell_type": "code",
      "execution_count": 407,
      "id": "subject-electric",
      "metadata": {
        "id": "subject-electric"
      },
      "outputs": [],
      "source": [
        "# Definir la arquitectura del modelo de la RNA\n",
        "modelRNA = models.Sequential()\n",
        "modelRNA.add(Dense(7, batch_input_shape=(None, 35), activation='relu')) ## neuronas en la capa de entrada (batch_input_shape) y #neuronas en la primera capa oculta\n",
        "modelRNA.add(Dense(7, activation='relu'))\n",
        "modelRNA.add(Dense(7, activation='relu'))\n",
        "modelRNA.add(Dense(3, activation='softmax'))"
      ]
    },
    {
      "cell_type": "code",
      "source": [
        "# compile the keras (tensorflow) flow graph\n",
        "modelRNA.compile(optimizer=optimizers.RMSprop(learning_rate=0.001),\n",
        "              loss='binary_crossentropy',\n",
        "              metrics=['accuracy'])"
      ],
      "metadata": {
        "id": "fmO_BWTTp8yS"
      },
      "id": "fmO_BWTTp8yS",
      "execution_count": 408,
      "outputs": []
    },
    {
      "cell_type": "markdown",
      "source": [
        "### Entrenamiento del modelo de RNA"
      ],
      "metadata": {
        "id": "ZkxGCNZJpyIa"
      },
      "id": "ZkxGCNZJpyIa"
    },
    {
      "cell_type": "code",
      "source": [
        "# Inicializar el reloj para calcular tiempo de cómputo\n",
        "t0 = process_time()"
      ],
      "metadata": {
        "id": "EuZG0sHJr-pz"
      },
      "id": "EuZG0sHJr-pz",
      "execution_count": 409,
      "outputs": []
    },
    {
      "cell_type": "code",
      "source": [
        "training_log = modelRNA.fit(X_train,\n",
        "                    Y_train,\n",
        "                    epochs=200,\n",
        "                    batch_size=32,\n",
        "                    validation_data=(X_valid, Y_valid),\n",
        "                    verbose=1)"
      ],
      "metadata": {
        "id": "WEXqIZWeIjmt",
        "colab": {
          "base_uri": "https://localhost:8080/"
        },
        "outputId": "41cc35f9-d130-493f-9259-91a418acb97c"
      },
      "id": "WEXqIZWeIjmt",
      "execution_count": 410,
      "outputs": [
        {
          "output_type": "stream",
          "name": "stdout",
          "text": [
            "Epoch 1/200\n",
            "53/53 [==============================] - 2s 12ms/step - loss: 0.6768 - accuracy: 0.2333 - val_loss: 0.6642 - val_accuracy: 0.2929\n",
            "Epoch 2/200\n",
            "53/53 [==============================] - 0s 6ms/step - loss: 0.6580 - accuracy: 0.3464 - val_loss: 0.6486 - val_accuracy: 0.4310\n",
            "Epoch 3/200\n",
            "53/53 [==============================] - 0s 6ms/step - loss: 0.6436 - accuracy: 0.4655 - val_loss: 0.6356 - val_accuracy: 0.5214\n",
            "Epoch 4/200\n",
            "53/53 [==============================] - 0s 7ms/step - loss: 0.6310 - accuracy: 0.5512 - val_loss: 0.6246 - val_accuracy: 0.5524\n",
            "Epoch 5/200\n",
            "53/53 [==============================] - 0s 4ms/step - loss: 0.6190 - accuracy: 0.5411 - val_loss: 0.6138 - val_accuracy: 0.5381\n",
            "Epoch 6/200\n",
            "53/53 [==============================] - 0s 3ms/step - loss: 0.6066 - accuracy: 0.5375 - val_loss: 0.6018 - val_accuracy: 0.5333\n",
            "Epoch 7/200\n",
            "53/53 [==============================] - 0s 3ms/step - loss: 0.5919 - accuracy: 0.5339 - val_loss: 0.5864 - val_accuracy: 0.5429\n",
            "Epoch 8/200\n",
            "53/53 [==============================] - 0s 3ms/step - loss: 0.5735 - accuracy: 0.5417 - val_loss: 0.5677 - val_accuracy: 0.5595\n",
            "Epoch 9/200\n",
            "53/53 [==============================] - 0s 4ms/step - loss: 0.5518 - accuracy: 0.5655 - val_loss: 0.5474 - val_accuracy: 0.6071\n",
            "Epoch 10/200\n",
            "53/53 [==============================] - 0s 3ms/step - loss: 0.5276 - accuracy: 0.6179 - val_loss: 0.5239 - val_accuracy: 0.6405\n",
            "Epoch 11/200\n",
            "53/53 [==============================] - 0s 3ms/step - loss: 0.5018 - accuracy: 0.6470 - val_loss: 0.4971 - val_accuracy: 0.6500\n",
            "Epoch 12/200\n",
            "53/53 [==============================] - 0s 3ms/step - loss: 0.4736 - accuracy: 0.6685 - val_loss: 0.4663 - val_accuracy: 0.6810\n",
            "Epoch 13/200\n",
            "53/53 [==============================] - 0s 3ms/step - loss: 0.4429 - accuracy: 0.7048 - val_loss: 0.4355 - val_accuracy: 0.7071\n",
            "Epoch 14/200\n",
            "53/53 [==============================] - 0s 4ms/step - loss: 0.4119 - accuracy: 0.7345 - val_loss: 0.4065 - val_accuracy: 0.7167\n",
            "Epoch 15/200\n",
            "53/53 [==============================] - 0s 4ms/step - loss: 0.3846 - accuracy: 0.7518 - val_loss: 0.3815 - val_accuracy: 0.7429\n",
            "Epoch 16/200\n",
            "53/53 [==============================] - 0s 3ms/step - loss: 0.3618 - accuracy: 0.7732 - val_loss: 0.3609 - val_accuracy: 0.7738\n",
            "Epoch 17/200\n",
            "53/53 [==============================] - 0s 3ms/step - loss: 0.3432 - accuracy: 0.7899 - val_loss: 0.3450 - val_accuracy: 0.7857\n",
            "Epoch 18/200\n",
            "53/53 [==============================] - 0s 4ms/step - loss: 0.3295 - accuracy: 0.7964 - val_loss: 0.3330 - val_accuracy: 0.7857\n",
            "Epoch 19/200\n",
            "53/53 [==============================] - 0s 4ms/step - loss: 0.3183 - accuracy: 0.7982 - val_loss: 0.3227 - val_accuracy: 0.7929\n",
            "Epoch 20/200\n",
            "53/53 [==============================] - 0s 3ms/step - loss: 0.3096 - accuracy: 0.8060 - val_loss: 0.3161 - val_accuracy: 0.7976\n",
            "Epoch 21/200\n",
            "53/53 [==============================] - 0s 3ms/step - loss: 0.3026 - accuracy: 0.8060 - val_loss: 0.3119 - val_accuracy: 0.7929\n",
            "Epoch 22/200\n",
            "53/53 [==============================] - 0s 4ms/step - loss: 0.2958 - accuracy: 0.8143 - val_loss: 0.3068 - val_accuracy: 0.8000\n",
            "Epoch 23/200\n",
            "53/53 [==============================] - 0s 4ms/step - loss: 0.2897 - accuracy: 0.8167 - val_loss: 0.3034 - val_accuracy: 0.8000\n",
            "Epoch 24/200\n",
            "53/53 [==============================] - 0s 4ms/step - loss: 0.2839 - accuracy: 0.8190 - val_loss: 0.2989 - val_accuracy: 0.8024\n",
            "Epoch 25/200\n",
            "53/53 [==============================] - 0s 4ms/step - loss: 0.2786 - accuracy: 0.8214 - val_loss: 0.2960 - val_accuracy: 0.8000\n",
            "Epoch 26/200\n",
            "53/53 [==============================] - 0s 3ms/step - loss: 0.2737 - accuracy: 0.8250 - val_loss: 0.2925 - val_accuracy: 0.8024\n",
            "Epoch 27/200\n",
            "53/53 [==============================] - 0s 3ms/step - loss: 0.2697 - accuracy: 0.8304 - val_loss: 0.2921 - val_accuracy: 0.8095\n",
            "Epoch 28/200\n",
            "53/53 [==============================] - 0s 3ms/step - loss: 0.2661 - accuracy: 0.8339 - val_loss: 0.2902 - val_accuracy: 0.7952\n",
            "Epoch 29/200\n",
            "53/53 [==============================] - 0s 3ms/step - loss: 0.2626 - accuracy: 0.8327 - val_loss: 0.2886 - val_accuracy: 0.7976\n",
            "Epoch 30/200\n",
            "53/53 [==============================] - 0s 4ms/step - loss: 0.2586 - accuracy: 0.8393 - val_loss: 0.2887 - val_accuracy: 0.8024\n",
            "Epoch 31/200\n",
            "53/53 [==============================] - 0s 3ms/step - loss: 0.2563 - accuracy: 0.8435 - val_loss: 0.2846 - val_accuracy: 0.8071\n",
            "Epoch 32/200\n",
            "53/53 [==============================] - 0s 3ms/step - loss: 0.2534 - accuracy: 0.8393 - val_loss: 0.2839 - val_accuracy: 0.8143\n",
            "Epoch 33/200\n",
            "53/53 [==============================] - 0s 4ms/step - loss: 0.2503 - accuracy: 0.8411 - val_loss: 0.2833 - val_accuracy: 0.8238\n",
            "Epoch 34/200\n",
            "53/53 [==============================] - 0s 4ms/step - loss: 0.2473 - accuracy: 0.8387 - val_loss: 0.2819 - val_accuracy: 0.8262\n",
            "Epoch 35/200\n",
            "53/53 [==============================] - 0s 4ms/step - loss: 0.2448 - accuracy: 0.8458 - val_loss: 0.2805 - val_accuracy: 0.8238\n",
            "Epoch 36/200\n",
            "53/53 [==============================] - 0s 3ms/step - loss: 0.2418 - accuracy: 0.8476 - val_loss: 0.2793 - val_accuracy: 0.8238\n",
            "Epoch 37/200\n",
            "53/53 [==============================] - 0s 3ms/step - loss: 0.2394 - accuracy: 0.8458 - val_loss: 0.2790 - val_accuracy: 0.8333\n",
            "Epoch 38/200\n",
            "53/53 [==============================] - 0s 3ms/step - loss: 0.2366 - accuracy: 0.8494 - val_loss: 0.2791 - val_accuracy: 0.8310\n",
            "Epoch 39/200\n",
            "53/53 [==============================] - 0s 3ms/step - loss: 0.2348 - accuracy: 0.8512 - val_loss: 0.2774 - val_accuracy: 0.8357\n",
            "Epoch 40/200\n",
            "53/53 [==============================] - 0s 3ms/step - loss: 0.2319 - accuracy: 0.8542 - val_loss: 0.2767 - val_accuracy: 0.8310\n",
            "Epoch 41/200\n",
            "53/53 [==============================] - 0s 4ms/step - loss: 0.2305 - accuracy: 0.8524 - val_loss: 0.2755 - val_accuracy: 0.8357\n",
            "Epoch 42/200\n",
            "53/53 [==============================] - 0s 3ms/step - loss: 0.2280 - accuracy: 0.8530 - val_loss: 0.2768 - val_accuracy: 0.8310\n",
            "Epoch 43/200\n",
            "53/53 [==============================] - 0s 3ms/step - loss: 0.2263 - accuracy: 0.8560 - val_loss: 0.2751 - val_accuracy: 0.8262\n",
            "Epoch 44/200\n",
            "53/53 [==============================] - 0s 4ms/step - loss: 0.2240 - accuracy: 0.8583 - val_loss: 0.2749 - val_accuracy: 0.8310\n",
            "Epoch 45/200\n",
            "53/53 [==============================] - 0s 3ms/step - loss: 0.2229 - accuracy: 0.8625 - val_loss: 0.2730 - val_accuracy: 0.8357\n",
            "Epoch 46/200\n",
            "53/53 [==============================] - 0s 7ms/step - loss: 0.2211 - accuracy: 0.8619 - val_loss: 0.2711 - val_accuracy: 0.8381\n",
            "Epoch 47/200\n",
            "53/53 [==============================] - 0s 5ms/step - loss: 0.2190 - accuracy: 0.8643 - val_loss: 0.2731 - val_accuracy: 0.8262\n",
            "Epoch 48/200\n",
            "53/53 [==============================] - 0s 5ms/step - loss: 0.2173 - accuracy: 0.8613 - val_loss: 0.2703 - val_accuracy: 0.8381\n",
            "Epoch 49/200\n",
            "53/53 [==============================] - 0s 5ms/step - loss: 0.2152 - accuracy: 0.8649 - val_loss: 0.2710 - val_accuracy: 0.8357\n",
            "Epoch 50/200\n",
            "53/53 [==============================] - 0s 5ms/step - loss: 0.2145 - accuracy: 0.8673 - val_loss: 0.2715 - val_accuracy: 0.8333\n",
            "Epoch 51/200\n",
            "53/53 [==============================] - 0s 6ms/step - loss: 0.2126 - accuracy: 0.8655 - val_loss: 0.2698 - val_accuracy: 0.8405\n",
            "Epoch 52/200\n",
            "53/53 [==============================] - 0s 5ms/step - loss: 0.2108 - accuracy: 0.8708 - val_loss: 0.2678 - val_accuracy: 0.8452\n",
            "Epoch 53/200\n",
            "53/53 [==============================] - 0s 6ms/step - loss: 0.2091 - accuracy: 0.8714 - val_loss: 0.2681 - val_accuracy: 0.8405\n",
            "Epoch 54/200\n",
            "53/53 [==============================] - 0s 5ms/step - loss: 0.2073 - accuracy: 0.8732 - val_loss: 0.2662 - val_accuracy: 0.8452\n",
            "Epoch 55/200\n",
            "53/53 [==============================] - 0s 5ms/step - loss: 0.2061 - accuracy: 0.8762 - val_loss: 0.2675 - val_accuracy: 0.8452\n",
            "Epoch 56/200\n",
            "53/53 [==============================] - 0s 5ms/step - loss: 0.2050 - accuracy: 0.8756 - val_loss: 0.2662 - val_accuracy: 0.8429\n",
            "Epoch 57/200\n",
            "53/53 [==============================] - 0s 5ms/step - loss: 0.2036 - accuracy: 0.8792 - val_loss: 0.2648 - val_accuracy: 0.8548\n",
            "Epoch 58/200\n",
            "53/53 [==============================] - 0s 5ms/step - loss: 0.2022 - accuracy: 0.8768 - val_loss: 0.2645 - val_accuracy: 0.8500\n",
            "Epoch 59/200\n",
            "53/53 [==============================] - 0s 5ms/step - loss: 0.2005 - accuracy: 0.8821 - val_loss: 0.2633 - val_accuracy: 0.8548\n",
            "Epoch 60/200\n",
            "53/53 [==============================] - 0s 6ms/step - loss: 0.1986 - accuracy: 0.8827 - val_loss: 0.2631 - val_accuracy: 0.8500\n",
            "Epoch 61/200\n",
            "53/53 [==============================] - 0s 6ms/step - loss: 0.1976 - accuracy: 0.8810 - val_loss: 0.2605 - val_accuracy: 0.8571\n",
            "Epoch 62/200\n",
            "53/53 [==============================] - 0s 5ms/step - loss: 0.1958 - accuracy: 0.8845 - val_loss: 0.2599 - val_accuracy: 0.8524\n",
            "Epoch 63/200\n",
            "53/53 [==============================] - 0s 4ms/step - loss: 0.1944 - accuracy: 0.8851 - val_loss: 0.2582 - val_accuracy: 0.8548\n",
            "Epoch 64/200\n",
            "53/53 [==============================] - 0s 3ms/step - loss: 0.1927 - accuracy: 0.8821 - val_loss: 0.2590 - val_accuracy: 0.8595\n",
            "Epoch 65/200\n",
            "53/53 [==============================] - 0s 3ms/step - loss: 0.1903 - accuracy: 0.8863 - val_loss: 0.2602 - val_accuracy: 0.8381\n",
            "Epoch 66/200\n",
            "53/53 [==============================] - 0s 3ms/step - loss: 0.1893 - accuracy: 0.8887 - val_loss: 0.2591 - val_accuracy: 0.8548\n",
            "Epoch 67/200\n",
            "53/53 [==============================] - 0s 3ms/step - loss: 0.1879 - accuracy: 0.8839 - val_loss: 0.2573 - val_accuracy: 0.8571\n",
            "Epoch 68/200\n",
            "53/53 [==============================] - 0s 3ms/step - loss: 0.1864 - accuracy: 0.8905 - val_loss: 0.2563 - val_accuracy: 0.8619\n",
            "Epoch 69/200\n",
            "53/53 [==============================] - 0s 4ms/step - loss: 0.1844 - accuracy: 0.8881 - val_loss: 0.2555 - val_accuracy: 0.8595\n",
            "Epoch 70/200\n",
            "53/53 [==============================] - 0s 3ms/step - loss: 0.1829 - accuracy: 0.8899 - val_loss: 0.2561 - val_accuracy: 0.8476\n",
            "Epoch 71/200\n",
            "53/53 [==============================] - 0s 3ms/step - loss: 0.1816 - accuracy: 0.8929 - val_loss: 0.2533 - val_accuracy: 0.8619\n",
            "Epoch 72/200\n",
            "53/53 [==============================] - 0s 3ms/step - loss: 0.1800 - accuracy: 0.8905 - val_loss: 0.2516 - val_accuracy: 0.8571\n",
            "Epoch 73/200\n",
            "53/53 [==============================] - 0s 4ms/step - loss: 0.1787 - accuracy: 0.8899 - val_loss: 0.2532 - val_accuracy: 0.8524\n",
            "Epoch 74/200\n",
            "53/53 [==============================] - 0s 4ms/step - loss: 0.1766 - accuracy: 0.8976 - val_loss: 0.2516 - val_accuracy: 0.8524\n",
            "Epoch 75/200\n",
            "53/53 [==============================] - 0s 3ms/step - loss: 0.1755 - accuracy: 0.8982 - val_loss: 0.2501 - val_accuracy: 0.8690\n",
            "Epoch 76/200\n",
            "53/53 [==============================] - 0s 3ms/step - loss: 0.1739 - accuracy: 0.9012 - val_loss: 0.2479 - val_accuracy: 0.8667\n",
            "Epoch 77/200\n",
            "53/53 [==============================] - 0s 3ms/step - loss: 0.1724 - accuracy: 0.8988 - val_loss: 0.2483 - val_accuracy: 0.8738\n",
            "Epoch 78/200\n",
            "53/53 [==============================] - 0s 4ms/step - loss: 0.1708 - accuracy: 0.9065 - val_loss: 0.2514 - val_accuracy: 0.8619\n",
            "Epoch 79/200\n",
            "53/53 [==============================] - 0s 5ms/step - loss: 0.1702 - accuracy: 0.9018 - val_loss: 0.2489 - val_accuracy: 0.8667\n",
            "Epoch 80/200\n",
            "53/53 [==============================] - 0s 3ms/step - loss: 0.1684 - accuracy: 0.9089 - val_loss: 0.2450 - val_accuracy: 0.8667\n",
            "Epoch 81/200\n",
            "53/53 [==============================] - 0s 3ms/step - loss: 0.1674 - accuracy: 0.9071 - val_loss: 0.2464 - val_accuracy: 0.8571\n",
            "Epoch 82/200\n",
            "53/53 [==============================] - 0s 3ms/step - loss: 0.1663 - accuracy: 0.9083 - val_loss: 0.2446 - val_accuracy: 0.8786\n",
            "Epoch 83/200\n",
            "53/53 [==============================] - 0s 3ms/step - loss: 0.1649 - accuracy: 0.9095 - val_loss: 0.2449 - val_accuracy: 0.8738\n",
            "Epoch 84/200\n",
            "53/53 [==============================] - 0s 4ms/step - loss: 0.1644 - accuracy: 0.9137 - val_loss: 0.2463 - val_accuracy: 0.8714\n",
            "Epoch 85/200\n",
            "53/53 [==============================] - 0s 3ms/step - loss: 0.1635 - accuracy: 0.9119 - val_loss: 0.2449 - val_accuracy: 0.8738\n",
            "Epoch 86/200\n",
            "53/53 [==============================] - 0s 3ms/step - loss: 0.1620 - accuracy: 0.9149 - val_loss: 0.2436 - val_accuracy: 0.8786\n",
            "Epoch 87/200\n",
            "53/53 [==============================] - 0s 3ms/step - loss: 0.1618 - accuracy: 0.9161 - val_loss: 0.2474 - val_accuracy: 0.8738\n",
            "Epoch 88/200\n",
            "53/53 [==============================] - 0s 3ms/step - loss: 0.1601 - accuracy: 0.9149 - val_loss: 0.2442 - val_accuracy: 0.8762\n",
            "Epoch 89/200\n",
            "53/53 [==============================] - 0s 3ms/step - loss: 0.1594 - accuracy: 0.9185 - val_loss: 0.2476 - val_accuracy: 0.8690\n",
            "Epoch 90/200\n",
            "53/53 [==============================] - 0s 4ms/step - loss: 0.1587 - accuracy: 0.9190 - val_loss: 0.2465 - val_accuracy: 0.8738\n",
            "Epoch 91/200\n",
            "53/53 [==============================] - 0s 3ms/step - loss: 0.1583 - accuracy: 0.9202 - val_loss: 0.2448 - val_accuracy: 0.8857\n",
            "Epoch 92/200\n",
            "53/53 [==============================] - 0s 3ms/step - loss: 0.1575 - accuracy: 0.9190 - val_loss: 0.2427 - val_accuracy: 0.8786\n",
            "Epoch 93/200\n",
            "53/53 [==============================] - 0s 3ms/step - loss: 0.1568 - accuracy: 0.9190 - val_loss: 0.2442 - val_accuracy: 0.8810\n",
            "Epoch 94/200\n",
            "53/53 [==============================] - 0s 3ms/step - loss: 0.1557 - accuracy: 0.9185 - val_loss: 0.2463 - val_accuracy: 0.8786\n",
            "Epoch 95/200\n",
            "53/53 [==============================] - 0s 4ms/step - loss: 0.1552 - accuracy: 0.9202 - val_loss: 0.2456 - val_accuracy: 0.8810\n",
            "Epoch 96/200\n",
            "53/53 [==============================] - 0s 3ms/step - loss: 0.1554 - accuracy: 0.9226 - val_loss: 0.2434 - val_accuracy: 0.8810\n",
            "Epoch 97/200\n",
            "53/53 [==============================] - 0s 4ms/step - loss: 0.1539 - accuracy: 0.9190 - val_loss: 0.2441 - val_accuracy: 0.8857\n",
            "Epoch 98/200\n",
            "53/53 [==============================] - 0s 4ms/step - loss: 0.1541 - accuracy: 0.9208 - val_loss: 0.2437 - val_accuracy: 0.8833\n",
            "Epoch 99/200\n",
            "53/53 [==============================] - 0s 3ms/step - loss: 0.1531 - accuracy: 0.9220 - val_loss: 0.2479 - val_accuracy: 0.8810\n",
            "Epoch 100/200\n",
            "53/53 [==============================] - 0s 4ms/step - loss: 0.1525 - accuracy: 0.9226 - val_loss: 0.2484 - val_accuracy: 0.8810\n",
            "Epoch 101/200\n",
            "53/53 [==============================] - 0s 3ms/step - loss: 0.1527 - accuracy: 0.9208 - val_loss: 0.2460 - val_accuracy: 0.8881\n",
            "Epoch 102/200\n",
            "53/53 [==============================] - 0s 3ms/step - loss: 0.1509 - accuracy: 0.9220 - val_loss: 0.2467 - val_accuracy: 0.8786\n",
            "Epoch 103/200\n",
            "53/53 [==============================] - 0s 3ms/step - loss: 0.1504 - accuracy: 0.9232 - val_loss: 0.2482 - val_accuracy: 0.8810\n",
            "Epoch 104/200\n",
            "53/53 [==============================] - 0s 3ms/step - loss: 0.1507 - accuracy: 0.9238 - val_loss: 0.2471 - val_accuracy: 0.8810\n",
            "Epoch 105/200\n",
            "53/53 [==============================] - 0s 3ms/step - loss: 0.1499 - accuracy: 0.9244 - val_loss: 0.2469 - val_accuracy: 0.8833\n",
            "Epoch 106/200\n",
            "53/53 [==============================] - 0s 4ms/step - loss: 0.1500 - accuracy: 0.9256 - val_loss: 0.2475 - val_accuracy: 0.8857\n",
            "Epoch 107/200\n",
            "53/53 [==============================] - 0s 3ms/step - loss: 0.1489 - accuracy: 0.9256 - val_loss: 0.2497 - val_accuracy: 0.8857\n",
            "Epoch 108/200\n",
            "53/53 [==============================] - 0s 3ms/step - loss: 0.1491 - accuracy: 0.9250 - val_loss: 0.2473 - val_accuracy: 0.8833\n",
            "Epoch 109/200\n",
            "53/53 [==============================] - 0s 3ms/step - loss: 0.1481 - accuracy: 0.9280 - val_loss: 0.2476 - val_accuracy: 0.8833\n",
            "Epoch 110/200\n",
            "53/53 [==============================] - 0s 3ms/step - loss: 0.1484 - accuracy: 0.9232 - val_loss: 0.2468 - val_accuracy: 0.8905\n",
            "Epoch 111/200\n",
            "53/53 [==============================] - 0s 4ms/step - loss: 0.1476 - accuracy: 0.9280 - val_loss: 0.2451 - val_accuracy: 0.8881\n",
            "Epoch 112/200\n",
            "53/53 [==============================] - 0s 3ms/step - loss: 0.1464 - accuracy: 0.9292 - val_loss: 0.2541 - val_accuracy: 0.8833\n",
            "Epoch 113/200\n",
            "53/53 [==============================] - 0s 3ms/step - loss: 0.1467 - accuracy: 0.9274 - val_loss: 0.2476 - val_accuracy: 0.8857\n",
            "Epoch 114/200\n",
            "53/53 [==============================] - 0s 3ms/step - loss: 0.1461 - accuracy: 0.9310 - val_loss: 0.2487 - val_accuracy: 0.8833\n",
            "Epoch 115/200\n",
            "53/53 [==============================] - 0s 5ms/step - loss: 0.1455 - accuracy: 0.9310 - val_loss: 0.2526 - val_accuracy: 0.8833\n",
            "Epoch 116/200\n",
            "53/53 [==============================] - 0s 6ms/step - loss: 0.1448 - accuracy: 0.9280 - val_loss: 0.2514 - val_accuracy: 0.8810\n",
            "Epoch 117/200\n",
            "53/53 [==============================] - 0s 5ms/step - loss: 0.1446 - accuracy: 0.9327 - val_loss: 0.2535 - val_accuracy: 0.8810\n",
            "Epoch 118/200\n",
            "53/53 [==============================] - 0s 5ms/step - loss: 0.1429 - accuracy: 0.9333 - val_loss: 0.2538 - val_accuracy: 0.8833\n",
            "Epoch 119/200\n",
            "53/53 [==============================] - 0s 5ms/step - loss: 0.1431 - accuracy: 0.9304 - val_loss: 0.2545 - val_accuracy: 0.8881\n",
            "Epoch 120/200\n",
            "53/53 [==============================] - 0s 5ms/step - loss: 0.1428 - accuracy: 0.9333 - val_loss: 0.2557 - val_accuracy: 0.8786\n",
            "Epoch 121/200\n",
            "53/53 [==============================] - 0s 5ms/step - loss: 0.1424 - accuracy: 0.9339 - val_loss: 0.2542 - val_accuracy: 0.8833\n",
            "Epoch 122/200\n",
            "53/53 [==============================] - 0s 5ms/step - loss: 0.1412 - accuracy: 0.9333 - val_loss: 0.2590 - val_accuracy: 0.8833\n",
            "Epoch 123/200\n",
            "53/53 [==============================] - 0s 6ms/step - loss: 0.1398 - accuracy: 0.9345 - val_loss: 0.2615 - val_accuracy: 0.8857\n",
            "Epoch 124/200\n",
            "53/53 [==============================] - 0s 5ms/step - loss: 0.1405 - accuracy: 0.9345 - val_loss: 0.2589 - val_accuracy: 0.8881\n",
            "Epoch 125/200\n",
            "53/53 [==============================] - 0s 6ms/step - loss: 0.1392 - accuracy: 0.9345 - val_loss: 0.2625 - val_accuracy: 0.8762\n",
            "Epoch 126/200\n",
            "53/53 [==============================] - 0s 6ms/step - loss: 0.1388 - accuracy: 0.9333 - val_loss: 0.2650 - val_accuracy: 0.8833\n",
            "Epoch 127/200\n",
            "53/53 [==============================] - 0s 5ms/step - loss: 0.1384 - accuracy: 0.9339 - val_loss: 0.2645 - val_accuracy: 0.8881\n",
            "Epoch 128/200\n",
            "53/53 [==============================] - 0s 5ms/step - loss: 0.1380 - accuracy: 0.9357 - val_loss: 0.2634 - val_accuracy: 0.8786\n",
            "Epoch 129/200\n",
            "53/53 [==============================] - 0s 6ms/step - loss: 0.1379 - accuracy: 0.9363 - val_loss: 0.2664 - val_accuracy: 0.8810\n",
            "Epoch 130/200\n",
            "53/53 [==============================] - 0s 5ms/step - loss: 0.1361 - accuracy: 0.9339 - val_loss: 0.2651 - val_accuracy: 0.8738\n",
            "Epoch 131/200\n",
            "53/53 [==============================] - 0s 4ms/step - loss: 0.1369 - accuracy: 0.9321 - val_loss: 0.2688 - val_accuracy: 0.8810\n",
            "Epoch 132/200\n",
            "53/53 [==============================] - 0s 3ms/step - loss: 0.1367 - accuracy: 0.9351 - val_loss: 0.2693 - val_accuracy: 0.8714\n",
            "Epoch 133/200\n",
            "53/53 [==============================] - 0s 3ms/step - loss: 0.1351 - accuracy: 0.9399 - val_loss: 0.2730 - val_accuracy: 0.8762\n",
            "Epoch 134/200\n",
            "53/53 [==============================] - 0s 5ms/step - loss: 0.1344 - accuracy: 0.9393 - val_loss: 0.2679 - val_accuracy: 0.8762\n",
            "Epoch 135/200\n",
            "53/53 [==============================] - 0s 3ms/step - loss: 0.1350 - accuracy: 0.9405 - val_loss: 0.2722 - val_accuracy: 0.8762\n",
            "Epoch 136/200\n",
            "53/53 [==============================] - 0s 3ms/step - loss: 0.1343 - accuracy: 0.9417 - val_loss: 0.2764 - val_accuracy: 0.8786\n",
            "Epoch 137/200\n",
            "53/53 [==============================] - 0s 3ms/step - loss: 0.1340 - accuracy: 0.9387 - val_loss: 0.2763 - val_accuracy: 0.8714\n",
            "Epoch 138/200\n",
            "53/53 [==============================] - 0s 3ms/step - loss: 0.1336 - accuracy: 0.9393 - val_loss: 0.2719 - val_accuracy: 0.8786\n",
            "Epoch 139/200\n",
            "53/53 [==============================] - 0s 4ms/step - loss: 0.1337 - accuracy: 0.9387 - val_loss: 0.2749 - val_accuracy: 0.8762\n",
            "Epoch 140/200\n",
            "53/53 [==============================] - 0s 3ms/step - loss: 0.1328 - accuracy: 0.9423 - val_loss: 0.2763 - val_accuracy: 0.8786\n",
            "Epoch 141/200\n",
            "53/53 [==============================] - 0s 3ms/step - loss: 0.1335 - accuracy: 0.9405 - val_loss: 0.2760 - val_accuracy: 0.8762\n",
            "Epoch 142/200\n",
            "53/53 [==============================] - 0s 3ms/step - loss: 0.1318 - accuracy: 0.9405 - val_loss: 0.2797 - val_accuracy: 0.8762\n",
            "Epoch 143/200\n",
            "53/53 [==============================] - 0s 3ms/step - loss: 0.1316 - accuracy: 0.9458 - val_loss: 0.2737 - val_accuracy: 0.8762\n",
            "Epoch 144/200\n",
            "53/53 [==============================] - 0s 3ms/step - loss: 0.1308 - accuracy: 0.9393 - val_loss: 0.2810 - val_accuracy: 0.8833\n",
            "Epoch 145/200\n",
            "53/53 [==============================] - 0s 4ms/step - loss: 0.1309 - accuracy: 0.9429 - val_loss: 0.2823 - val_accuracy: 0.8762\n",
            "Epoch 146/200\n",
            "53/53 [==============================] - 0s 3ms/step - loss: 0.1300 - accuracy: 0.9399 - val_loss: 0.2814 - val_accuracy: 0.8738\n",
            "Epoch 147/200\n",
            "53/53 [==============================] - 0s 3ms/step - loss: 0.1297 - accuracy: 0.9440 - val_loss: 0.2768 - val_accuracy: 0.8810\n",
            "Epoch 148/200\n",
            "53/53 [==============================] - 0s 3ms/step - loss: 0.1312 - accuracy: 0.9393 - val_loss: 0.2801 - val_accuracy: 0.8833\n",
            "Epoch 149/200\n",
            "53/53 [==============================] - 0s 3ms/step - loss: 0.1290 - accuracy: 0.9440 - val_loss: 0.2828 - val_accuracy: 0.8762\n",
            "Epoch 150/200\n",
            "53/53 [==============================] - 0s 4ms/step - loss: 0.1299 - accuracy: 0.9411 - val_loss: 0.2816 - val_accuracy: 0.8857\n",
            "Epoch 151/200\n",
            "53/53 [==============================] - 0s 4ms/step - loss: 0.1286 - accuracy: 0.9411 - val_loss: 0.2843 - val_accuracy: 0.8810\n",
            "Epoch 152/200\n",
            "53/53 [==============================] - 0s 3ms/step - loss: 0.1283 - accuracy: 0.9446 - val_loss: 0.2891 - val_accuracy: 0.8833\n",
            "Epoch 153/200\n",
            "53/53 [==============================] - 0s 4ms/step - loss: 0.1284 - accuracy: 0.9417 - val_loss: 0.2848 - val_accuracy: 0.8810\n",
            "Epoch 154/200\n",
            "53/53 [==============================] - 0s 3ms/step - loss: 0.1282 - accuracy: 0.9440 - val_loss: 0.2894 - val_accuracy: 0.8857\n",
            "Epoch 155/200\n",
            "53/53 [==============================] - 0s 4ms/step - loss: 0.1280 - accuracy: 0.9423 - val_loss: 0.2831 - val_accuracy: 0.8833\n",
            "Epoch 156/200\n",
            "53/53 [==============================] - 0s 3ms/step - loss: 0.1275 - accuracy: 0.9423 - val_loss: 0.2840 - val_accuracy: 0.8881\n",
            "Epoch 157/200\n",
            "53/53 [==============================] - 0s 3ms/step - loss: 0.1268 - accuracy: 0.9423 - val_loss: 0.2890 - val_accuracy: 0.8833\n",
            "Epoch 158/200\n",
            "53/53 [==============================] - 0s 4ms/step - loss: 0.1281 - accuracy: 0.9446 - val_loss: 0.2870 - val_accuracy: 0.8857\n",
            "Epoch 159/200\n",
            "53/53 [==============================] - 0s 3ms/step - loss: 0.1272 - accuracy: 0.9405 - val_loss: 0.2894 - val_accuracy: 0.8833\n",
            "Epoch 160/200\n",
            "53/53 [==============================] - 0s 4ms/step - loss: 0.1258 - accuracy: 0.9494 - val_loss: 0.2899 - val_accuracy: 0.8810\n",
            "Epoch 161/200\n",
            "53/53 [==============================] - 0s 3ms/step - loss: 0.1261 - accuracy: 0.9417 - val_loss: 0.2937 - val_accuracy: 0.8857\n",
            "Epoch 162/200\n",
            "53/53 [==============================] - 0s 3ms/step - loss: 0.1259 - accuracy: 0.9429 - val_loss: 0.2901 - val_accuracy: 0.8833\n",
            "Epoch 163/200\n",
            "53/53 [==============================] - 0s 3ms/step - loss: 0.1253 - accuracy: 0.9458 - val_loss: 0.2867 - val_accuracy: 0.8810\n",
            "Epoch 164/200\n",
            "53/53 [==============================] - 0s 3ms/step - loss: 0.1253 - accuracy: 0.9458 - val_loss: 0.2881 - val_accuracy: 0.8881\n",
            "Epoch 165/200\n",
            "53/53 [==============================] - 0s 4ms/step - loss: 0.1255 - accuracy: 0.9446 - val_loss: 0.2929 - val_accuracy: 0.8833\n",
            "Epoch 166/200\n",
            "53/53 [==============================] - 0s 4ms/step - loss: 0.1248 - accuracy: 0.9435 - val_loss: 0.2921 - val_accuracy: 0.8857\n",
            "Epoch 167/200\n",
            "53/53 [==============================] - 0s 3ms/step - loss: 0.1244 - accuracy: 0.9435 - val_loss: 0.2910 - val_accuracy: 0.8881\n",
            "Epoch 168/200\n",
            "53/53 [==============================] - 0s 3ms/step - loss: 0.1241 - accuracy: 0.9440 - val_loss: 0.2911 - val_accuracy: 0.8738\n",
            "Epoch 169/200\n",
            "53/53 [==============================] - 0s 3ms/step - loss: 0.1234 - accuracy: 0.9452 - val_loss: 0.2982 - val_accuracy: 0.8833\n",
            "Epoch 170/200\n",
            "53/53 [==============================] - 0s 3ms/step - loss: 0.1243 - accuracy: 0.9435 - val_loss: 0.2944 - val_accuracy: 0.8857\n",
            "Epoch 171/200\n",
            "53/53 [==============================] - 0s 3ms/step - loss: 0.1230 - accuracy: 0.9494 - val_loss: 0.2965 - val_accuracy: 0.8786\n",
            "Epoch 172/200\n",
            "53/53 [==============================] - 0s 3ms/step - loss: 0.1240 - accuracy: 0.9446 - val_loss: 0.2929 - val_accuracy: 0.8810\n",
            "Epoch 173/200\n",
            "53/53 [==============================] - 0s 3ms/step - loss: 0.1235 - accuracy: 0.9470 - val_loss: 0.2968 - val_accuracy: 0.8857\n",
            "Epoch 174/200\n",
            "53/53 [==============================] - 0s 4ms/step - loss: 0.1231 - accuracy: 0.9476 - val_loss: 0.2966 - val_accuracy: 0.8810\n",
            "Epoch 175/200\n",
            "53/53 [==============================] - 0s 3ms/step - loss: 0.1236 - accuracy: 0.9458 - val_loss: 0.2983 - val_accuracy: 0.8833\n",
            "Epoch 176/200\n",
            "53/53 [==============================] - 0s 4ms/step - loss: 0.1229 - accuracy: 0.9500 - val_loss: 0.3043 - val_accuracy: 0.8833\n",
            "Epoch 177/200\n",
            "53/53 [==============================] - 0s 3ms/step - loss: 0.1225 - accuracy: 0.9464 - val_loss: 0.3018 - val_accuracy: 0.8857\n",
            "Epoch 178/200\n",
            "53/53 [==============================] - 0s 3ms/step - loss: 0.1224 - accuracy: 0.9464 - val_loss: 0.2975 - val_accuracy: 0.8738\n",
            "Epoch 179/200\n",
            "53/53 [==============================] - 0s 3ms/step - loss: 0.1223 - accuracy: 0.9476 - val_loss: 0.3004 - val_accuracy: 0.8905\n",
            "Epoch 180/200\n",
            "53/53 [==============================] - 0s 4ms/step - loss: 0.1222 - accuracy: 0.9464 - val_loss: 0.3006 - val_accuracy: 0.8810\n",
            "Epoch 181/200\n",
            "53/53 [==============================] - 0s 4ms/step - loss: 0.1218 - accuracy: 0.9482 - val_loss: 0.3043 - val_accuracy: 0.8810\n",
            "Epoch 182/200\n",
            "53/53 [==============================] - 0s 3ms/step - loss: 0.1210 - accuracy: 0.9488 - val_loss: 0.3028 - val_accuracy: 0.8810\n",
            "Epoch 183/200\n",
            "53/53 [==============================] - 0s 5ms/step - loss: 0.1221 - accuracy: 0.9482 - val_loss: 0.3052 - val_accuracy: 0.8833\n",
            "Epoch 184/200\n",
            "53/53 [==============================] - 0s 5ms/step - loss: 0.1218 - accuracy: 0.9458 - val_loss: 0.3077 - val_accuracy: 0.8810\n",
            "Epoch 185/200\n",
            "53/53 [==============================] - 0s 6ms/step - loss: 0.1202 - accuracy: 0.9512 - val_loss: 0.3038 - val_accuracy: 0.8762\n",
            "Epoch 186/200\n",
            "53/53 [==============================] - 0s 6ms/step - loss: 0.1218 - accuracy: 0.9482 - val_loss: 0.3033 - val_accuracy: 0.8833\n",
            "Epoch 187/200\n",
            "53/53 [==============================] - 0s 6ms/step - loss: 0.1202 - accuracy: 0.9500 - val_loss: 0.3099 - val_accuracy: 0.8857\n",
            "Epoch 188/200\n",
            "53/53 [==============================] - 0s 6ms/step - loss: 0.1200 - accuracy: 0.9470 - val_loss: 0.3083 - val_accuracy: 0.8762\n",
            "Epoch 189/200\n",
            "53/53 [==============================] - 0s 6ms/step - loss: 0.1201 - accuracy: 0.9488 - val_loss: 0.3061 - val_accuracy: 0.8762\n",
            "Epoch 190/200\n",
            "53/53 [==============================] - 0s 7ms/step - loss: 0.1200 - accuracy: 0.9506 - val_loss: 0.3101 - val_accuracy: 0.8810\n",
            "Epoch 191/200\n",
            "53/53 [==============================] - 0s 7ms/step - loss: 0.1196 - accuracy: 0.9476 - val_loss: 0.3120 - val_accuracy: 0.8810\n",
            "Epoch 192/200\n",
            "53/53 [==============================] - 0s 5ms/step - loss: 0.1195 - accuracy: 0.9464 - val_loss: 0.3108 - val_accuracy: 0.8833\n",
            "Epoch 193/200\n",
            "53/53 [==============================] - 0s 5ms/step - loss: 0.1200 - accuracy: 0.9500 - val_loss: 0.3130 - val_accuracy: 0.8810\n",
            "Epoch 194/200\n",
            "53/53 [==============================] - 0s 5ms/step - loss: 0.1201 - accuracy: 0.9464 - val_loss: 0.3143 - val_accuracy: 0.8810\n",
            "Epoch 195/200\n",
            "53/53 [==============================] - 0s 7ms/step - loss: 0.1185 - accuracy: 0.9458 - val_loss: 0.3130 - val_accuracy: 0.8762\n",
            "Epoch 196/200\n",
            "53/53 [==============================] - 0s 5ms/step - loss: 0.1189 - accuracy: 0.9488 - val_loss: 0.3144 - val_accuracy: 0.8810\n",
            "Epoch 197/200\n",
            "53/53 [==============================] - 0s 7ms/step - loss: 0.1184 - accuracy: 0.9488 - val_loss: 0.3159 - val_accuracy: 0.8738\n",
            "Epoch 198/200\n",
            "53/53 [==============================] - 0s 7ms/step - loss: 0.1187 - accuracy: 0.9512 - val_loss: 0.3195 - val_accuracy: 0.8810\n",
            "Epoch 199/200\n",
            "53/53 [==============================] - 0s 6ms/step - loss: 0.1187 - accuracy: 0.9464 - val_loss: 0.3169 - val_accuracy: 0.8810\n",
            "Epoch 200/200\n",
            "53/53 [==============================] - 0s 7ms/step - loss: 0.1175 - accuracy: 0.9512 - val_loss: 0.3156 - val_accuracy: 0.8786\n"
          ]
        }
      ]
    },
    {
      "cell_type": "code",
      "source": [
        "# # Tiempo de computo\n",
        "t1 = process_time()\n",
        "tc = t1-t0\n",
        "\n",
        "# # Mostrar tiempo de cómputo del entrenamiento del modelo de RNA\n",
        "print('El tiempo de cómputo con RNA fue: %.2f segundos' % tc)"
      ],
      "metadata": {
        "id": "ns4XH0KkryiK",
        "colab": {
          "base_uri": "https://localhost:8080/"
        },
        "outputId": "af07340c-df2b-42d2-9a73-2156ba608de5"
      },
      "id": "ns4XH0KkryiK",
      "execution_count": 411,
      "outputs": [
        {
          "output_type": "stream",
          "name": "stdout",
          "text": [
            "El tiempo de cómputo con RNA fue: 46.89 segundos\n"
          ]
        }
      ]
    },
    {
      "cell_type": "markdown",
      "source": [
        "### Predicción"
      ],
      "metadata": {
        "id": "kt-1kPj1t2y_"
      },
      "id": "kt-1kPj1t2y_"
    },
    {
      "cell_type": "code",
      "source": [
        "X_pred = modelRNA.predict(X_test, batch_size = 32, verbose=1)\n",
        "y_pred = np.argmax(X_pred, axis=1)\n",
        "print(y_pred.shape)"
      ],
      "metadata": {
        "id": "s2V_K7x8t4LQ",
        "colab": {
          "base_uri": "https://localhost:8080/"
        },
        "outputId": "f730c95d-2e1c-484c-a53c-5467c8a7ffe3"
      },
      "id": "s2V_K7x8t4LQ",
      "execution_count": 412,
      "outputs": [
        {
          "output_type": "stream",
          "name": "stdout",
          "text": [
            "29/29 [==============================] - 0s 2ms/step\n",
            "(900,)\n"
          ]
        }
      ]
    },
    {
      "cell_type": "markdown",
      "source": [
        "## Evaluación del modelo entrenado"
      ],
      "metadata": {
        "id": "0Z0yUZ0dqgIz"
      },
      "id": "0Z0yUZ0dqgIz"
    },
    {
      "cell_type": "markdown",
      "source": [
        "### Gráficas de pérdida de entrenamiento y validación"
      ],
      "metadata": {
        "id": "NFH5y6qOqio9"
      },
      "id": "NFH5y6qOqio9"
    },
    {
      "cell_type": "code",
      "execution_count": 413,
      "id": "internal-hudson",
      "metadata": {
        "id": "internal-hudson",
        "colab": {
          "base_uri": "https://localhost:8080/",
          "height": 490
        },
        "outputId": "a33fa431-2951-448f-812e-9086ecea2b9b"
      },
      "outputs": [
        {
          "output_type": "display_data",
          "data": {
            "text/plain": [
              "<Figure size 1600x500 with 2 Axes>"
            ],
            "image/png": "[encoded data removed]"
          },
          "metadata": {}
        }
      ],
      "source": [
        "# Gráficas de pérdidas en entrenamiento y validación\n",
        "loss = training_log.history['loss']\n",
        "val_loss = training_log.history['val_loss']\n",
        "epochs = range(1, len(val_loss) + 1)\n",
        "\n",
        "# Gráfica comparativa: pérdida en entrenamiento\n",
        "plt.figure(figsize=(16, 5))\n",
        "plt.subplot(1, 2, 1)\n",
        "plt.plot(epochs, loss, 'g*--', label=\"Perceptrón 5 capas\")\n",
        "plt.title('Pérdida en el entrenamiento arquitectura ARN')\n",
        "plt.xlabel('Épocas')\n",
        "plt.ylabel('Pérdida')\n",
        "plt.legend(loc=\"upper center\", fontsize=\"small\")\n",
        "plt.legend()\n",
        "plt.grid(True)\n",
        "\n",
        "# Gráfica comparativa: pérdida en validación\n",
        "plt.subplot(1, 2, 2)\n",
        "plt.plot(epochs, val_loss, 'b*--', label=\"Perceptrón 5 capas\")\n",
        "plt.title('Pérdida en la validación arquitectura ARN')\n",
        "plt.xlabel('Épocas')\n",
        "plt.ylabel('Pérdida')\n",
        "plt.legend(loc=\"upper center\", fontsize=\"small\")\n",
        "plt.legend()\n",
        "plt.grid(True)\n",
        "plt.show()"
      ]
    },
    {
      "cell_type": "markdown",
      "source": [
        "### Visualizar reporte del entrenamiento de la RNA"
      ],
      "metadata": {
        "id": "o_wQRzRnq3K8"
      },
      "id": "o_wQRzRnq3K8"
    },
    {
      "cell_type": "code",
      "execution_count": 414,
      "id": "reliable-resort",
      "metadata": {
        "id": "reliable-resort",
        "colab": {
          "base_uri": "https://localhost:8080/"
        },
        "outputId": "0d3c0e89-8f2c-4285-9c56-17013cab98a8"
      },
      "outputs": [
        {
          "output_type": "stream",
          "name": "stdout",
          "text": [
            "\n",
            "               precision    recall  f1-score   support\n",
            "\n",
            "           0      0.840     0.840     0.840       175\n",
            "           1      0.736     0.748     0.742       246\n",
            "           2      0.907     0.900     0.904       479\n",
            "\n",
            "    accuracy                          0.847       900\n",
            "   macro avg      0.828     0.829     0.828       900\n",
            "weighted avg      0.847     0.847     0.847       900\n",
            "\n"
          ]
        }
      ],
      "source": [
        "# Métricas de desempeño\n",
        "# Mostrar la precisión, recall, F1-score\n",
        "print(\"\\n\", classification_report(y_test, y_pred, digits=3))"
      ]
    },
    {
      "cell_type": "markdown",
      "source": [
        "### Visualizar matriz de confusión"
      ],
      "metadata": {
        "id": "7MPa73-zrCAr"
      },
      "id": "7MPa73-zrCAr"
    },
    {
      "cell_type": "code",
      "execution_count": 415,
      "id": "opened-quantity",
      "metadata": {
        "id": "opened-quantity",
        "colab": {
          "base_uri": "https://localhost:8080/",
          "height": 526
        },
        "outputId": "8fdfc1d3-cc74-46a4-a92c-9fcc40b8f050"
      },
      "outputs": [
        {
          "output_type": "display_data",
          "data": {
            "text/plain": [
              "<Figure size 640x480 with 1 Axes>"
            ],
            "image/png": "[encoded data removed]"
          },
          "metadata": {}
        }
      ],
      "source": [
        "# Matriz de confusión\n",
        "# cm = metrics.confusion_matrix(Y_test.argmax(axis=1),\n",
        "#                               Y_pred.argmax(axis=1))\n",
        "cm = confusion_matrix(y_test, y_pred)\n",
        "plt.imshow(cm, interpolation='nearest', cmap=plt.cm.Wistia)\n",
        "classNames = ['RCV bajo','RCV latente', 'RCV alto']\n",
        "plt.title('Matriz de confusión modelo predictivo RCV')\n",
        "plt.ylabel('True label')\n",
        "plt.xlabel('Predicted label')\n",
        "tick_marks = np.arange(len(classNames))\n",
        "plt.xticks(tick_marks, classNames, rotation=45)\n",
        "plt.yticks(tick_marks, classNames)\n",
        "for i in range(3):\n",
        "    for j in range(3):\n",
        "        plt.text(j,i, str(cm[i][j]))"
      ]
    },
    {
      "cell_type": "markdown",
      "source": [
        "### Curva ROC\n"
      ],
      "metadata": {
        "id": "fI_T7Ud8Myl6"
      },
      "id": "fI_T7Ud8Myl6"
    },
    {
      "cell_type": "code",
      "source": [
        "# Curva ROC\n",
        "# #https://stackabuse.com/understanding-roc-curves-with-python/\n",
        "Y_pred = np_utils.to_categorical(y_pred)\n",
        "auc = roc_auc_score(Y_test, Y_pred)\n",
        "fpr, tpr, threshold = roc_curve(Y_test[:,0], Y_pred[:,0])\n",
        "font = {'family': 'serif',\n",
        "    'color':  'darkred',\n",
        "    'weight': 'normal',\n",
        "    'size': 16,\n",
        "    }\n",
        "plt.plot(fpr, tpr, color='green', label='ROC RCV bajo')\n",
        "plt.plot([0, 1], [0, 1], color='black', linestyle='--')\n",
        "plt.xlabel('Tasa de Falsos Positivos')\n",
        "plt.ylabel('Tasa de Verdaderos Postivos')\n",
        "plt.title('Curva ROC RNA')\n",
        "fpr, tpr, threshold = roc_curve(Y_test[:,1], Y_pred[:,1])\n",
        "plt.plot(fpr, tpr, color='darkblue', label='ROC RCV latente')\n",
        "fpr, tpr, threshold = roc_curve(Y_test[:,2], Y_pred[:,2])\n",
        "plt.plot(fpr, tpr, color='orange', label='ROC RCV alto')\n",
        "plt.text(0.7, 0.55, 'AUC: %.2f' % auc, fontdict=font)\n",
        "plt.legend()\n",
        "plt.show()"
      ],
      "metadata": {
        "id": "HysJdDp7M01I",
        "colab": {
          "base_uri": "https://localhost:8080/",
          "height": 472
        },
        "outputId": "7f7591d1-0b72-4499-d123-51240f1bcf6a"
      },
      "id": "HysJdDp7M01I",
      "execution_count": 416,
      "outputs": [
        {
          "output_type": "display_data",
          "data": {
            "text/plain": [
              "<Figure size 640x480 with 1 Axes>"
            ],
            "image/png": "[encoded data removed]"
          },
          "metadata": {}
        }
      ]
    },
    {
      "cell_type": "code",
      "execution_count": null,
      "id": "substantial-killer",
      "metadata": {
        "id": "substantial-killer"
      },
      "outputs": [],
      "source": [
        "#Guardar modelo\n",
        "# import pickle\n",
        "# pickle.dump(modelRNA, open('RNA_RCV_01.pkl', 'wb'))\n",
        "\n",
        "# #Cargar modelo almacenado\n",
        "# model = pickle.load(open('RNA_RCV_01.pkl', 'rb'))\n",
        "# result_val = model.score(X_valid, y_valid)\n",
        "# result_test = model.score(X_test, y_test)\n",
        "# print(result_val)\n",
        "# print(result_test)"
      ]
    },
    {
      "cell_type": "markdown",
      "id": "acceptable-knowing",
      "metadata": {
        "id": "acceptable-knowing"
      },
      "source": [
        "## Conclusiones\n"
      ]
    }
  ],
  "metadata": {
    "kernelspec": {
      "display_name": "Python (bertgpu)",
      "language": "python",
      "name": "bertgpu"
    },
    "language_info": {
      "codemirror_mode": {
        "name": "ipython",
        "version": 3
      },
      "file_extension": ".py",
      "mimetype": "text/x-python",
      "name": "python",
      "nbconvert_exporter": "python",
      "pygments_lexer": "ipython3",
      "version": "3.7.10"
    },
    "colab": {
      "provenance": [],
      "include_colab_link": true
    }
  },
  "nbformat": 4,
  "nbformat_minor": 5
}